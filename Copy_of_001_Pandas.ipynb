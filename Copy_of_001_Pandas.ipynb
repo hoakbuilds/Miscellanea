{
  "nbformat": 4,
  "nbformat_minor": 0,
  "metadata": {
    "colab": {
      "name": "Copy of 001_Pandas.ipynb",
      "version": "0.3.2",
      "provenance": [],
      "collapsed_sections": [],
      "include_colab_link": true
    },
    "kernelspec": {
      "name": "python3",
      "display_name": "Python 3"
    }
  },
  "cells": [
    {
      "cell_type": "markdown",
      "metadata": {
        "id": "view-in-github",
        "colab_type": "text"
      },
      "source": [
        "<a href=\"https://colab.research.google.com/github/murlokito/Miscellanea/blob/python_dev/Copy_of_001_Pandas.ipynb\" target=\"_parent\"><img src=\"https://colab.research.google.com/assets/colab-badge.svg\" alt=\"Open In Colab\"/></a>"
      ]
    },
    {
      "metadata": {
        "id": "lWqApF7-qTs1",
        "colab_type": "text"
      },
      "cell_type": "markdown",
      "source": [
        "#### **Nenhum Panda foi magoado durante este workshop**\n",
        "\n",
        "![alt text](https://media.giphy.com/media/wbFiPNhOEVKkU/giphy.gif)\n",
        "\n",
        "\n",
        "Porque infelizmente não estamos a falar de Pandas mas sim da biblioteca python \"Pandas\".\n",
        "\n",
        "[Website oficial](https://pandas.pydata.org/)"
      ]
    },
    {
      "metadata": {
        "id": "VxGIFwpWqwto",
        "colab_type": "text"
      },
      "cell_type": "markdown",
      "source": [
        "## Imports usuais\n",
        "Os blocos de código têm como escopo o notebook inteiro e não o bloco em si.\n",
        "Este bloco, a seguir, por exemplo, as importações vão estar disponiveis em todo o notebook"
      ]
    },
    {
      "metadata": {
        "id": "tcMfyHEjqQRT",
        "colab_type": "code",
        "colab": {}
      },
      "cell_type": "code",
      "source": [
        "'''Biblioteca para fazer tratamento e análise de informação'''\n",
        "import pandas as pd\n",
        "\n",
        "\n",
        "'''Biblioteca focada em computação cientifica e tratamento de dados'''\n",
        "import numpy as np\n",
        "\n",
        "'''Biblioteca para visualizar os resultados em graficos'''\n",
        "import matplotlib.pyplot as plt\n",
        "\n"
      ],
      "execution_count": 0,
      "outputs": []
    },
    {
      "metadata": {
        "id": "gPQxk4otlH_C",
        "colab_type": "text"
      },
      "cell_type": "markdown",
      "source": [
        "_Nota_: Ver o site do MatplotLib para saber que graficos consegue criar e exemplos de como os criar.\n",
        "\n",
        "[Exemplos MatplotLib](https://matplotlib.org/gallery/index.html)"
      ]
    },
    {
      "metadata": {
        "id": "OGOL5JGUsk8U",
        "colab_type": "text"
      },
      "cell_type": "markdown",
      "source": [
        "## Estruturas de dados\n",
        "\n",
        "Existem duas estruturas de dados fundamentais em Pandas:\n",
        "- [Series](https://pandas.pydata.org/pandas-docs/stable/dsintro.html#series)\n",
        "- [DataFrames](https://pandas.pydata.org/pandas-docs/stable/dsintro.html#dataframe) - *A que iremos usar mais*"
      ]
    },
    {
      "metadata": {
        "id": "02U2iztSs8nl",
        "colab_type": "code",
        "outputId": "c293eed1-42c2-4b2d-a1d6-502101551735",
        "colab": {
          "base_uri": "https://localhost:8080/",
          "height": 104
        }
      },
      "cell_type": "code",
      "source": [
        "'''Series'''\n",
        "s = pd.Series([1,3,\"teste\",np.nan])\n",
        "\n",
        "# '''Visualizar 's' '''\n",
        "s"
      ],
      "execution_count": 0,
      "outputs": [
        {
          "output_type": "execute_result",
          "data": {
            "text/plain": [
              "0        1\n",
              "1        3\n",
              "2    teste\n",
              "3      NaN\n",
              "dtype: object"
            ]
          },
          "metadata": {
            "tags": []
          },
          "execution_count": 2
        }
      ]
    },
    {
      "metadata": {
        "id": "oWT_wNt1tnoj",
        "colab_type": "code",
        "outputId": "00426bff-5ac2-4390-8262-e263359674fa",
        "colab": {
          "base_uri": "https://localhost:8080/",
          "height": 175
        }
      },
      "cell_type": "code",
      "source": [
        "'''DataFrames'''\n",
        "df = pd.DataFrame(\n",
        "    { \n",
        "'A' : 1.,\n",
        "'B' : pd.Timestamp('20130102'),\n",
        "'C' : s,\n",
        "'E' : pd.Categorical([\"barco\",\"comboio\",\"teste\",\"comboio\"]),\n",
        "'F' : 'foo' })\n",
        "\n",
        "'''Visualizar 'df' '''\n",
        "df # <-- Lembrar desta variável pois ira persistir pelo notebook"
      ],
      "execution_count": 0,
      "outputs": [
        {
          "output_type": "execute_result",
          "data": {
            "text/html": [
              "<div>\n",
              "<style scoped>\n",
              "    .dataframe tbody tr th:only-of-type {\n",
              "        vertical-align: middle;\n",
              "    }\n",
              "\n",
              "    .dataframe tbody tr th {\n",
              "        vertical-align: top;\n",
              "    }\n",
              "\n",
              "    .dataframe thead th {\n",
              "        text-align: right;\n",
              "    }\n",
              "</style>\n",
              "<table border=\"1\" class=\"dataframe\">\n",
              "  <thead>\n",
              "    <tr style=\"text-align: right;\">\n",
              "      <th></th>\n",
              "      <th>A</th>\n",
              "      <th>B</th>\n",
              "      <th>C</th>\n",
              "      <th>E</th>\n",
              "      <th>F</th>\n",
              "    </tr>\n",
              "  </thead>\n",
              "  <tbody>\n",
              "    <tr>\n",
              "      <th>0</th>\n",
              "      <td>1.0</td>\n",
              "      <td>2013-01-02</td>\n",
              "      <td>1</td>\n",
              "      <td>barco</td>\n",
              "      <td>foo</td>\n",
              "    </tr>\n",
              "    <tr>\n",
              "      <th>1</th>\n",
              "      <td>1.0</td>\n",
              "      <td>2013-01-02</td>\n",
              "      <td>3</td>\n",
              "      <td>comboio</td>\n",
              "      <td>foo</td>\n",
              "    </tr>\n",
              "    <tr>\n",
              "      <th>2</th>\n",
              "      <td>1.0</td>\n",
              "      <td>2013-01-02</td>\n",
              "      <td>teste</td>\n",
              "      <td>teste</td>\n",
              "      <td>foo</td>\n",
              "    </tr>\n",
              "    <tr>\n",
              "      <th>3</th>\n",
              "      <td>1.0</td>\n",
              "      <td>2013-01-02</td>\n",
              "      <td>NaN</td>\n",
              "      <td>comboio</td>\n",
              "      <td>foo</td>\n",
              "    </tr>\n",
              "  </tbody>\n",
              "</table>\n",
              "</div>"
            ],
            "text/plain": [
              "     A          B      C        E    F\n",
              "0  1.0 2013-01-02      1    barco  foo\n",
              "1  1.0 2013-01-02      3  comboio  foo\n",
              "2  1.0 2013-01-02  teste    teste  foo\n",
              "3  1.0 2013-01-02    NaN  comboio  foo"
            ]
          },
          "metadata": {
            "tags": []
          },
          "execution_count": 3
        }
      ]
    },
    {
      "metadata": {
        "id": "bpHG8DOJvmf3",
        "colab_type": "text"
      },
      "cell_type": "markdown",
      "source": [
        "### Métodos de Visualização de 'DataFrames'\n",
        "\n",
        "Existem vários comandos associados a \"DataFrames\" tais como:\n",
        "\n",
        "* .head()\n",
        "* .tail()\n",
        "* .columns\n",
        "* .values\n",
        "* .describe()\n",
        "* .mean()\n",
        "* .T\n",
        "\n",
        "---\n",
        "\n",
        "#### Exercício #1\n",
        "- Experimentar estes comandos na variável 'df'\n",
        "- Porque aparecem menos colunas com o comando \"mean()\""
      ]
    },
    {
      "metadata": {
        "id": "mha4ciJvw_qm",
        "colab_type": "code",
        "outputId": "c9169a74-b750-47fb-c4f3-acd1cdb178a5",
        "colab": {
          "base_uri": "https://localhost:8080/",
          "height": 34
        }
      },
      "cell_type": "code",
      "source": [
        "'''Exercicio #1'''\n",
        "\n",
        "df.columns\n"
      ],
      "execution_count": 0,
      "outputs": [
        {
          "output_type": "execute_result",
          "data": {
            "text/plain": [
              "Index(['A', 'B', 'C', 'E', 'F'], dtype='object')"
            ]
          },
          "metadata": {
            "tags": []
          },
          "execution_count": 19
        }
      ]
    },
    {
      "metadata": {
        "id": "0SBbbaw8x51C",
        "colab_type": "text"
      },
      "cell_type": "markdown",
      "source": [
        "## Seleccionar \n",
        "\n",
        "Podemos escolher só uma coluna do Dataframe fazendo: dataframe[< nome_da_coluna >] ou dataframe. < nome_da_coluna > o que irá retornar uma estrutura de dados *Serie* \n",
        "\n",
        "\n",
        "Se quisermos cortar a DataFrame também podemos usar [] para o efeito, como exemplo: *df[0:3]*, irá mostrar todas as linhas entre a primeira(0) e a terceira (2)\n",
        "\n"
      ]
    },
    {
      "metadata": {
        "id": "pKSQg6ez8I8O",
        "colab_type": "code",
        "outputId": "c94607d8-ece5-4373-ba49-128c5a4669df",
        "colab": {
          "base_uri": "https://localhost:8080/",
          "height": 112
        }
      },
      "cell_type": "code",
      "source": [
        "df[0:-2]"
      ],
      "execution_count": 0,
      "outputs": [
        {
          "output_type": "execute_result",
          "data": {
            "text/html": [
              "<div>\n",
              "<style scoped>\n",
              "    .dataframe tbody tr th:only-of-type {\n",
              "        vertical-align: middle;\n",
              "    }\n",
              "\n",
              "    .dataframe tbody tr th {\n",
              "        vertical-align: top;\n",
              "    }\n",
              "\n",
              "    .dataframe thead th {\n",
              "        text-align: right;\n",
              "    }\n",
              "</style>\n",
              "<table border=\"1\" class=\"dataframe\">\n",
              "  <thead>\n",
              "    <tr style=\"text-align: right;\">\n",
              "      <th></th>\n",
              "      <th>A</th>\n",
              "      <th>B</th>\n",
              "      <th>C</th>\n",
              "      <th>E</th>\n",
              "      <th>F</th>\n",
              "    </tr>\n",
              "  </thead>\n",
              "  <tbody>\n",
              "    <tr>\n",
              "      <th>0</th>\n",
              "      <td>1.0</td>\n",
              "      <td>2013-01-02</td>\n",
              "      <td>1</td>\n",
              "      <td>barco</td>\n",
              "      <td>foo</td>\n",
              "    </tr>\n",
              "    <tr>\n",
              "      <th>1</th>\n",
              "      <td>1.0</td>\n",
              "      <td>2013-01-02</td>\n",
              "      <td>3</td>\n",
              "      <td>comboio</td>\n",
              "      <td>foo</td>\n",
              "    </tr>\n",
              "  </tbody>\n",
              "</table>\n",
              "</div>"
            ],
            "text/plain": [
              "     A          B  C        E    F\n",
              "0  1.0 2013-01-02  1    barco  foo\n",
              "1  1.0 2013-01-02  3  comboio  foo"
            ]
          },
          "metadata": {
            "tags": []
          },
          "execution_count": 5
        }
      ]
    },
    {
      "metadata": {
        "id": "f87MEd_luGdm",
        "colab_type": "text"
      },
      "cell_type": "markdown",
      "source": [
        "### Exercício #2\n",
        "- Mostrar só a coluna 'E' da variável 'df'\n",
        "- Mostrar da 2ª à 3ª linha\n"
      ]
    },
    {
      "metadata": {
        "id": "1P0ulXVyt27u",
        "colab_type": "code",
        "outputId": "e8903dd2-c6b7-423b-f516-f272b1a5e65a",
        "colab": {
          "base_uri": "https://localhost:8080/",
          "height": 86
        }
      },
      "cell_type": "code",
      "source": [
        "'''Exercicio #2'''\n",
        "\n",
        "df.E[2:]# <Escrever Respostas Aqui>"
      ],
      "execution_count": 0,
      "outputs": [
        {
          "output_type": "execute_result",
          "data": {
            "text/plain": [
              "2      teste\n",
              "3    comboio\n",
              "Name: E, dtype: category\n",
              "Categories (3, object): [barco, comboio, teste]"
            ]
          },
          "metadata": {
            "tags": []
          },
          "execution_count": 11
        }
      ]
    },
    {
      "metadata": {
        "id": "vqdG1CjW0oam",
        "colab_type": "text"
      },
      "cell_type": "markdown",
      "source": [
        "Existem várias formas de selecionar dados de um Dataframe.\n",
        "Deixo aqui links para consulta:\n",
        "\n",
        "- [Selection By Label](https://pandas.pydata.org/pandas-docs/stable/indexing.html#indexing-label)\n",
        "- [Selection by Position](https://pandas.pydata.org/pandas-docs/stable/indexing.html#indexing-integer)\n",
        "\n",
        "\n",
        "ProTip: Guardar estes links, que vão ser imprescindiveis no futuro."
      ]
    },
    {
      "metadata": {
        "id": "A4jPvJIH9Apb",
        "colab_type": "text"
      },
      "cell_type": "markdown",
      "source": [
        "## Editar\n",
        "\n",
        "Se quisermos adicionar uma coluna ao nosso DataFrame basta associa-lo a uma nova coluna ou editar uma já existente.\n",
        "\n",
        "Exemplo:\n",
        "\n"
      ]
    },
    {
      "metadata": {
        "id": "P8NGV87tKG8X",
        "colab_type": "code",
        "outputId": "50d4ed4c-bcff-46ae-c9c7-4f87916a8b5e",
        "colab": {
          "base_uri": "https://localhost:8080/",
          "height": 238
        }
      },
      "cell_type": "code",
      "source": [
        "'''Inicialização'''\n",
        "A = pd.Series([1,1,2,3,5,8])\n",
        "B = np.random.rand(6)\n",
        "\n",
        "dataframe = pd.DataFrame({ 'Feature_A' : A,'Feature_B' : B})\n",
        "\n",
        "dataframe"
      ],
      "execution_count": 0,
      "outputs": [
        {
          "output_type": "execute_result",
          "data": {
            "text/html": [
              "<div>\n",
              "<style scoped>\n",
              "    .dataframe tbody tr th:only-of-type {\n",
              "        vertical-align: middle;\n",
              "    }\n",
              "\n",
              "    .dataframe tbody tr th {\n",
              "        vertical-align: top;\n",
              "    }\n",
              "\n",
              "    .dataframe thead th {\n",
              "        text-align: right;\n",
              "    }\n",
              "</style>\n",
              "<table border=\"1\" class=\"dataframe\">\n",
              "  <thead>\n",
              "    <tr style=\"text-align: right;\">\n",
              "      <th></th>\n",
              "      <th>Feature_A</th>\n",
              "      <th>Feature_B</th>\n",
              "    </tr>\n",
              "  </thead>\n",
              "  <tbody>\n",
              "    <tr>\n",
              "      <th>0</th>\n",
              "      <td>1</td>\n",
              "      <td>0.401751</td>\n",
              "    </tr>\n",
              "    <tr>\n",
              "      <th>1</th>\n",
              "      <td>1</td>\n",
              "      <td>0.981745</td>\n",
              "    </tr>\n",
              "    <tr>\n",
              "      <th>2</th>\n",
              "      <td>2</td>\n",
              "      <td>0.101996</td>\n",
              "    </tr>\n",
              "    <tr>\n",
              "      <th>3</th>\n",
              "      <td>3</td>\n",
              "      <td>0.387282</td>\n",
              "    </tr>\n",
              "    <tr>\n",
              "      <th>4</th>\n",
              "      <td>5</td>\n",
              "      <td>0.827570</td>\n",
              "    </tr>\n",
              "    <tr>\n",
              "      <th>5</th>\n",
              "      <td>8</td>\n",
              "      <td>0.985225</td>\n",
              "    </tr>\n",
              "  </tbody>\n",
              "</table>\n",
              "</div>"
            ],
            "text/plain": [
              "   Feature_A  Feature_B\n",
              "0          1   0.401751\n",
              "1          1   0.981745\n",
              "2          2   0.101996\n",
              "3          3   0.387282\n",
              "4          5   0.827570\n",
              "5          8   0.985225"
            ]
          },
          "metadata": {
            "tags": []
          },
          "execution_count": 12
        }
      ]
    },
    {
      "metadata": {
        "id": "jOaPJ9wFMyLH",
        "colab_type": "code",
        "outputId": "0883f5fb-5934-453f-c121-97dbb7d742a0",
        "colab": {
          "base_uri": "https://localhost:8080/",
          "height": 238
        }
      },
      "cell_type": "code",
      "source": [
        "C = pd.Series([\"Carro\",\"Mota\",\"Mota\",\"Carro\",\"Carro\",\"Mota\"])\n",
        "dataframe[\"Feature_C\"] = C\n",
        "\n",
        "dataframe"
      ],
      "execution_count": 0,
      "outputs": [
        {
          "output_type": "execute_result",
          "data": {
            "text/html": [
              "<div>\n",
              "<style scoped>\n",
              "    .dataframe tbody tr th:only-of-type {\n",
              "        vertical-align: middle;\n",
              "    }\n",
              "\n",
              "    .dataframe tbody tr th {\n",
              "        vertical-align: top;\n",
              "    }\n",
              "\n",
              "    .dataframe thead th {\n",
              "        text-align: right;\n",
              "    }\n",
              "</style>\n",
              "<table border=\"1\" class=\"dataframe\">\n",
              "  <thead>\n",
              "    <tr style=\"text-align: right;\">\n",
              "      <th></th>\n",
              "      <th>Feature_A</th>\n",
              "      <th>Feature_B</th>\n",
              "      <th>Feature_C</th>\n",
              "    </tr>\n",
              "  </thead>\n",
              "  <tbody>\n",
              "    <tr>\n",
              "      <th>0</th>\n",
              "      <td>1</td>\n",
              "      <td>0.401751</td>\n",
              "      <td>Carro</td>\n",
              "    </tr>\n",
              "    <tr>\n",
              "      <th>1</th>\n",
              "      <td>1</td>\n",
              "      <td>0.981745</td>\n",
              "      <td>Mota</td>\n",
              "    </tr>\n",
              "    <tr>\n",
              "      <th>2</th>\n",
              "      <td>2</td>\n",
              "      <td>0.101996</td>\n",
              "      <td>Mota</td>\n",
              "    </tr>\n",
              "    <tr>\n",
              "      <th>3</th>\n",
              "      <td>3</td>\n",
              "      <td>0.387282</td>\n",
              "      <td>Carro</td>\n",
              "    </tr>\n",
              "    <tr>\n",
              "      <th>4</th>\n",
              "      <td>5</td>\n",
              "      <td>0.827570</td>\n",
              "      <td>Carro</td>\n",
              "    </tr>\n",
              "    <tr>\n",
              "      <th>5</th>\n",
              "      <td>8</td>\n",
              "      <td>0.985225</td>\n",
              "      <td>Mota</td>\n",
              "    </tr>\n",
              "  </tbody>\n",
              "</table>\n",
              "</div>"
            ],
            "text/plain": [
              "   Feature_A  Feature_B Feature_C\n",
              "0          1   0.401751     Carro\n",
              "1          1   0.981745      Mota\n",
              "2          2   0.101996      Mota\n",
              "3          3   0.387282     Carro\n",
              "4          5   0.827570     Carro\n",
              "5          8   0.985225      Mota"
            ]
          },
          "metadata": {
            "tags": []
          },
          "execution_count": 13
        }
      ]
    },
    {
      "metadata": {
        "id": "MSa5v_v1Nfuq",
        "colab_type": "text"
      },
      "cell_type": "markdown",
      "source": [
        "Existem várias formas de editar um DataFrame, deixo uma listagem de formas\n",
        "\n",
        "* [Concat](https://pandas.pydata.org/pandas-docs/stable/merging.html#merging)\n",
        "* [Join](https://pandas.pydata.org/pandas-docs/stable/merging.html#merging-join)\n",
        "* [Append](https://pandas.pydata.org/pandas-docs/stable/merging.html#merging-concatenation)\n",
        "* [Group By](https://pandas.pydata.org/pandas-docs/stable/groupby.html#groupby)\n"
      ]
    },
    {
      "metadata": {
        "id": "d7loTnFjOkvR",
        "colab_type": "text"
      },
      "cell_type": "markdown",
      "source": [
        "### Categorias (Categorical)\n",
        "Acho este um dos mais importantes, tranforma dados continuous em categorias, um exemplo usual é tranformar notas de uma disciplina 0 a 100 para \"Insuficiente\", \"Satisfaz\", \"Muito Bom\" e depois ver quem passou ou não.\n",
        "\n"
      ]
    },
    {
      "metadata": {
        "id": "kbR7mYwp-IVo",
        "colab_type": "text"
      },
      "cell_type": "markdown",
      "source": [
        "##### Inicialização do problema"
      ]
    },
    {
      "metadata": {
        "id": "OZ0W4Gna-EpP",
        "colab_type": "code",
        "outputId": "99248521-df8b-4de8-a0e6-f36dbe407014",
        "colab": {
          "base_uri": "https://localhost:8080/",
          "height": 238
        }
      },
      "cell_type": "code",
      "source": [
        "'''\n",
        "Criação do DataFrame com 6 'alunos' com diferentes ids e o respectivo 'valor+ que\n",
        "teve num certo teste\n",
        "'''\n",
        "df_notas = pd.DataFrame({\n",
        "    \"aluno\":[1100,1200,1004,1102,1105,1109],\n",
        "    \"valor\":[10,50,80,99,50,60]})\n",
        "\n",
        "'''Extra: Ordena o Dataframe de ordem decrescente de notas'''\n",
        "#df_notas = df_notas.sort_values(by=\"valor\", ascending=False)\n",
        "\n",
        "df_notas"
      ],
      "execution_count": 0,
      "outputs": [
        {
          "output_type": "execute_result",
          "data": {
            "text/html": [
              "<div>\n",
              "<style scoped>\n",
              "    .dataframe tbody tr th:only-of-type {\n",
              "        vertical-align: middle;\n",
              "    }\n",
              "\n",
              "    .dataframe tbody tr th {\n",
              "        vertical-align: top;\n",
              "    }\n",
              "\n",
              "    .dataframe thead th {\n",
              "        text-align: right;\n",
              "    }\n",
              "</style>\n",
              "<table border=\"1\" class=\"dataframe\">\n",
              "  <thead>\n",
              "    <tr style=\"text-align: right;\">\n",
              "      <th></th>\n",
              "      <th>aluno</th>\n",
              "      <th>valor</th>\n",
              "    </tr>\n",
              "  </thead>\n",
              "  <tbody>\n",
              "    <tr>\n",
              "      <th>0</th>\n",
              "      <td>1100</td>\n",
              "      <td>10</td>\n",
              "    </tr>\n",
              "    <tr>\n",
              "      <th>1</th>\n",
              "      <td>1200</td>\n",
              "      <td>50</td>\n",
              "    </tr>\n",
              "    <tr>\n",
              "      <th>2</th>\n",
              "      <td>1004</td>\n",
              "      <td>80</td>\n",
              "    </tr>\n",
              "    <tr>\n",
              "      <th>3</th>\n",
              "      <td>1102</td>\n",
              "      <td>99</td>\n",
              "    </tr>\n",
              "    <tr>\n",
              "      <th>4</th>\n",
              "      <td>1105</td>\n",
              "      <td>50</td>\n",
              "    </tr>\n",
              "    <tr>\n",
              "      <th>5</th>\n",
              "      <td>1109</td>\n",
              "      <td>60</td>\n",
              "    </tr>\n",
              "  </tbody>\n",
              "</table>\n",
              "</div>"
            ],
            "text/plain": [
              "   aluno  valor\n",
              "0   1100     10\n",
              "1   1200     50\n",
              "2   1004     80\n",
              "3   1102     99\n",
              "4   1105     50\n",
              "5   1109     60"
            ]
          },
          "metadata": {
            "tags": []
          },
          "execution_count": 81
        }
      ]
    },
    {
      "metadata": {
        "id": "p4f7GfJv-Xds",
        "colab_type": "text"
      },
      "cell_type": "markdown",
      "source": [
        "##### Categorização\n",
        "\n",
        "Pega nos valores da coluna \"valor\" e categoriza de acordo com os ranges\n",
        "indicados de acordo, exemplo: entre [50 e 70[ será um Satifaz"
      ]
    },
    {
      "metadata": {
        "id": "wxA2YZDDPKsS",
        "colab_type": "code",
        "outputId": "b5dd6acd-a9b4-4b88-a12a-2ecc16a7b990",
        "colab": {
          "base_uri": "https://localhost:8080/",
          "height": 156
        }
      },
      "cell_type": "code",
      "source": [
        "series_n = pd.cut(\n",
        "    df_notas[['valor']].stack(),\n",
        "    [0, 49, 70, 89, 100], # 0 < 50 < 70 < 90 < 100 \n",
        "    labels=['Insuficiente', 'Satisfaz', 'Bom', 'Muito Bom']\n",
        ")\n",
        "\n",
        "series_n\n"
      ],
      "execution_count": 0,
      "outputs": [
        {
          "output_type": "execute_result",
          "data": {
            "text/plain": [
              "0  valor    Insuficiente\n",
              "1  valor        Satisfaz\n",
              "2  valor             Bom\n",
              "3  valor       Muito Bom\n",
              "4  valor        Satisfaz\n",
              "5  valor        Satisfaz\n",
              "dtype: category\n",
              "Categories (4, object): [Insuficiente < Satisfaz < Bom < Muito Bom]"
            ]
          },
          "metadata": {
            "tags": []
          },
          "execution_count": 82
        }
      ]
    },
    {
      "metadata": {
        "id": "MlHHbS93_Mea",
        "colab_type": "text"
      },
      "cell_type": "markdown",
      "source": [
        "Vamos tornar a ```series_n``` num Dataframe agora."
      ]
    },
    {
      "metadata": {
        "id": "9nc25Icb-tVR",
        "colab_type": "code",
        "outputId": "af7e9a95-a73e-4690-9c2a-e2170506baa7",
        "colab": {
          "base_uri": "https://localhost:8080/",
          "height": 238
        }
      },
      "cell_type": "code",
      "source": [
        "df_notas['nota'] = series_n.unstack()\n",
        "\n",
        "df_notas"
      ],
      "execution_count": 0,
      "outputs": [
        {
          "output_type": "execute_result",
          "data": {
            "text/html": [
              "<div>\n",
              "<style scoped>\n",
              "    .dataframe tbody tr th:only-of-type {\n",
              "        vertical-align: middle;\n",
              "    }\n",
              "\n",
              "    .dataframe tbody tr th {\n",
              "        vertical-align: top;\n",
              "    }\n",
              "\n",
              "    .dataframe thead th {\n",
              "        text-align: right;\n",
              "    }\n",
              "</style>\n",
              "<table border=\"1\" class=\"dataframe\">\n",
              "  <thead>\n",
              "    <tr style=\"text-align: right;\">\n",
              "      <th></th>\n",
              "      <th>aluno</th>\n",
              "      <th>valor</th>\n",
              "      <th>nota</th>\n",
              "    </tr>\n",
              "  </thead>\n",
              "  <tbody>\n",
              "    <tr>\n",
              "      <th>0</th>\n",
              "      <td>1100</td>\n",
              "      <td>10</td>\n",
              "      <td>Insuficiente</td>\n",
              "    </tr>\n",
              "    <tr>\n",
              "      <th>1</th>\n",
              "      <td>1200</td>\n",
              "      <td>50</td>\n",
              "      <td>Satisfaz</td>\n",
              "    </tr>\n",
              "    <tr>\n",
              "      <th>2</th>\n",
              "      <td>1004</td>\n",
              "      <td>80</td>\n",
              "      <td>Bom</td>\n",
              "    </tr>\n",
              "    <tr>\n",
              "      <th>3</th>\n",
              "      <td>1102</td>\n",
              "      <td>99</td>\n",
              "      <td>Muito Bom</td>\n",
              "    </tr>\n",
              "    <tr>\n",
              "      <th>4</th>\n",
              "      <td>1105</td>\n",
              "      <td>50</td>\n",
              "      <td>Satisfaz</td>\n",
              "    </tr>\n",
              "    <tr>\n",
              "      <th>5</th>\n",
              "      <td>1109</td>\n",
              "      <td>60</td>\n",
              "      <td>Satisfaz</td>\n",
              "    </tr>\n",
              "  </tbody>\n",
              "</table>\n",
              "</div>"
            ],
            "text/plain": [
              "   aluno  valor          nota\n",
              "0   1100     10  Insuficiente\n",
              "1   1200     50      Satisfaz\n",
              "2   1004     80           Bom\n",
              "3   1102     99     Muito Bom\n",
              "4   1105     50      Satisfaz\n",
              "5   1109     60      Satisfaz"
            ]
          },
          "metadata": {
            "tags": []
          },
          "execution_count": 83
        }
      ]
    },
    {
      "metadata": {
        "id": "0LpYwBfFZSRJ",
        "colab_type": "text"
      },
      "cell_type": "markdown",
      "source": [
        "### Exercicio #3 \n",
        "* Adicionar uma nova coluna ao dataframe \"notas\" que indique se o aluno passou (true) ou não (false), sendo que o valor se passou tem de ser a cima de 50\n",
        "* Ordenar a tabela da melhor nota para a pior;"
      ]
    },
    {
      "metadata": {
        "id": "UxpX9ncdZmPz",
        "colab_type": "code",
        "outputId": "7bed0f8d-7747-4879-d4c3-8e2116835c3c",
        "colab": {
          "base_uri": "https://localhost:8080/",
          "height": 238
        }
      },
      "cell_type": "code",
      "source": [
        "'''\n",
        "Exercicio #3\n",
        "- Usar o Dataframe 'df_notas'\n",
        "'''\n",
        "\n",
        "df_notas['aproveitamento'] = [True if d > 50 else False for d in df_notas['valor']]\n",
        "df_notas"
      ],
      "execution_count": 0,
      "outputs": [
        {
          "output_type": "execute_result",
          "data": {
            "text/html": [
              "<div>\n",
              "<style scoped>\n",
              "    .dataframe tbody tr th:only-of-type {\n",
              "        vertical-align: middle;\n",
              "    }\n",
              "\n",
              "    .dataframe tbody tr th {\n",
              "        vertical-align: top;\n",
              "    }\n",
              "\n",
              "    .dataframe thead th {\n",
              "        text-align: right;\n",
              "    }\n",
              "</style>\n",
              "<table border=\"1\" class=\"dataframe\">\n",
              "  <thead>\n",
              "    <tr style=\"text-align: right;\">\n",
              "      <th></th>\n",
              "      <th>aluno</th>\n",
              "      <th>valor</th>\n",
              "      <th>nota</th>\n",
              "      <th>aproveitamento</th>\n",
              "    </tr>\n",
              "  </thead>\n",
              "  <tbody>\n",
              "    <tr>\n",
              "      <th>0</th>\n",
              "      <td>1100</td>\n",
              "      <td>10</td>\n",
              "      <td>Insuficiente</td>\n",
              "      <td>False</td>\n",
              "    </tr>\n",
              "    <tr>\n",
              "      <th>1</th>\n",
              "      <td>1200</td>\n",
              "      <td>50</td>\n",
              "      <td>Satisfaz</td>\n",
              "      <td>False</td>\n",
              "    </tr>\n",
              "    <tr>\n",
              "      <th>2</th>\n",
              "      <td>1004</td>\n",
              "      <td>80</td>\n",
              "      <td>Bom</td>\n",
              "      <td>True</td>\n",
              "    </tr>\n",
              "    <tr>\n",
              "      <th>3</th>\n",
              "      <td>1102</td>\n",
              "      <td>99</td>\n",
              "      <td>Muito Bom</td>\n",
              "      <td>True</td>\n",
              "    </tr>\n",
              "    <tr>\n",
              "      <th>4</th>\n",
              "      <td>1105</td>\n",
              "      <td>50</td>\n",
              "      <td>Satisfaz</td>\n",
              "      <td>False</td>\n",
              "    </tr>\n",
              "    <tr>\n",
              "      <th>5</th>\n",
              "      <td>1109</td>\n",
              "      <td>60</td>\n",
              "      <td>Satisfaz</td>\n",
              "      <td>True</td>\n",
              "    </tr>\n",
              "  </tbody>\n",
              "</table>\n",
              "</div>"
            ],
            "text/plain": [
              "   aluno  valor          nota  aproveitamento\n",
              "0   1100     10  Insuficiente           False\n",
              "1   1200     50      Satisfaz           False\n",
              "2   1004     80           Bom            True\n",
              "3   1102     99     Muito Bom            True\n",
              "4   1105     50      Satisfaz           False\n",
              "5   1109     60      Satisfaz            True"
            ]
          },
          "metadata": {
            "tags": []
          },
          "execution_count": 84
        }
      ]
    },
    {
      "metadata": {
        "id": "qBOOosbzX0Tj",
        "colab_type": "code",
        "outputId": "75d9531c-879d-4e61-a755-831afd0eebaf",
        "colab": {
          "base_uri": "https://localhost:8080/",
          "height": 238
        }
      },
      "cell_type": "code",
      "source": [
        "df_notas = df_notas.sort_values(by=['valor'], ascending=False)\n",
        "df_notas"
      ],
      "execution_count": 0,
      "outputs": [
        {
          "output_type": "execute_result",
          "data": {
            "text/html": [
              "<div>\n",
              "<style scoped>\n",
              "    .dataframe tbody tr th:only-of-type {\n",
              "        vertical-align: middle;\n",
              "    }\n",
              "\n",
              "    .dataframe tbody tr th {\n",
              "        vertical-align: top;\n",
              "    }\n",
              "\n",
              "    .dataframe thead th {\n",
              "        text-align: right;\n",
              "    }\n",
              "</style>\n",
              "<table border=\"1\" class=\"dataframe\">\n",
              "  <thead>\n",
              "    <tr style=\"text-align: right;\">\n",
              "      <th></th>\n",
              "      <th>aluno</th>\n",
              "      <th>valor</th>\n",
              "      <th>nota</th>\n",
              "      <th>aproveitamento</th>\n",
              "    </tr>\n",
              "  </thead>\n",
              "  <tbody>\n",
              "    <tr>\n",
              "      <th>3</th>\n",
              "      <td>1102</td>\n",
              "      <td>99</td>\n",
              "      <td>Muito Bom</td>\n",
              "      <td>True</td>\n",
              "    </tr>\n",
              "    <tr>\n",
              "      <th>2</th>\n",
              "      <td>1004</td>\n",
              "      <td>80</td>\n",
              "      <td>Bom</td>\n",
              "      <td>True</td>\n",
              "    </tr>\n",
              "    <tr>\n",
              "      <th>5</th>\n",
              "      <td>1109</td>\n",
              "      <td>60</td>\n",
              "      <td>Satisfaz</td>\n",
              "      <td>True</td>\n",
              "    </tr>\n",
              "    <tr>\n",
              "      <th>1</th>\n",
              "      <td>1200</td>\n",
              "      <td>50</td>\n",
              "      <td>Satisfaz</td>\n",
              "      <td>False</td>\n",
              "    </tr>\n",
              "    <tr>\n",
              "      <th>4</th>\n",
              "      <td>1105</td>\n",
              "      <td>50</td>\n",
              "      <td>Satisfaz</td>\n",
              "      <td>False</td>\n",
              "    </tr>\n",
              "    <tr>\n",
              "      <th>0</th>\n",
              "      <td>1100</td>\n",
              "      <td>10</td>\n",
              "      <td>Insuficiente</td>\n",
              "      <td>False</td>\n",
              "    </tr>\n",
              "  </tbody>\n",
              "</table>\n",
              "</div>"
            ],
            "text/plain": [
              "   aluno  valor          nota  aproveitamento\n",
              "3   1102     99     Muito Bom            True\n",
              "2   1004     80           Bom            True\n",
              "5   1109     60      Satisfaz            True\n",
              "1   1200     50      Satisfaz           False\n",
              "4   1105     50      Satisfaz           False\n",
              "0   1100     10  Insuficiente           False"
            ]
          },
          "metadata": {
            "tags": []
          },
          "execution_count": 85
        }
      ]
    },
    {
      "metadata": {
        "id": "JhNSeeEBQkfv",
        "colab_type": "text"
      },
      "cell_type": "markdown",
      "source": [
        "Categoricals source: [Categoricals](https://pandas.pydata.org/pandas-docs/stable/categorical.html#categorical)"
      ]
    }
  ]
}