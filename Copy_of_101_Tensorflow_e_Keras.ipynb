{
  "nbformat": 4,
  "nbformat_minor": 0,
  "metadata": {
    "colab": {
      "name": "Copy of 101_Tensorflow_e_Keras.ipynb",
      "version": "0.3.2",
      "provenance": [],
      "collapsed_sections": [
        "S1IhFjVj2ECZ",
        "yzzGcB2C4GSI",
        "2TDTDPZz3bV7",
        "QWhSjGob35IT"
      ],
      "include_colab_link": true
    },
    "kernelspec": {
      "name": "python3",
      "display_name": "Python 3"
    },
    "accelerator": "GPU"
  },
  "cells": [
    {
      "cell_type": "markdown",
      "metadata": {
        "id": "view-in-github",
        "colab_type": "text"
      },
      "source": [
        "<a href=\"https://colab.research.google.com/github/murlokito/Miscellanea/blob/python_dev/Copy_of_101_Tensorflow_e_Keras.ipynb\" target=\"_parent\"><img src=\"https://colab.research.google.com/assets/colab-badge.svg\" alt=\"Open In Colab\"/></a>"
      ]
    },
    {
      "metadata": {
        "id": "eGWZTIwr2Sn0",
        "colab_type": "text"
      },
      "cell_type": "markdown",
      "source": [
        "# TensorFlow\n",
        "\n",
        "Um simples exemplo de apresentar uma mensagem.\n",
        "\n",
        "Estamos a criar um simples grafo com uma constante."
      ]
    },
    {
      "metadata": {
        "id": "oWF7mTTJ8YAW",
        "colab_type": "code",
        "outputId": "54b25198-d107-47e8-b801-2d927d68e56e",
        "colab": {
          "base_uri": "https://localhost:8080/",
          "height": 34
        }
      },
      "cell_type": "code",
      "source": [
        "import tensorflow as tf\n",
        "\n",
        "'''O resultado do construtor representa a \"Constant op\" '''\n",
        "hello = tf.constant(\"Hello, TensorFlow!\")\n",
        "\n",
        "'''Iniciar a sessão'''\n",
        "sess = tf.Session()\n",
        "\n",
        "'''Executar o grafo'''\n",
        "print(sess.run(hello))"
      ],
      "execution_count": 0,
      "outputs": [
        {
          "output_type": "stream",
          "text": [
            "b'Hello, TensorFlow!'\n"
          ],
          "name": "stdout"
        }
      ]
    },
    {
      "metadata": {
        "id": "S1IhFjVj2ECZ",
        "colab_type": "text"
      },
      "cell_type": "markdown",
      "source": [
        "### Extra\n"
      ]
    },
    {
      "metadata": {
        "id": "ot10eb05FkFJ",
        "colab_type": "text"
      },
      "cell_type": "markdown",
      "source": [
        "#### Shape?"
      ]
    },
    {
      "metadata": {
        "id": "PkPkMZmbFmwW",
        "colab_type": "code",
        "outputId": "70743bce-3155-486c-b999-d75187e9d70b",
        "colab": {
          "base_uri": "https://localhost:8080/",
          "height": 34
        }
      },
      "cell_type": "code",
      "source": [
        "t = tf.constant([[[1, 1, 1], [2, 2, 2]], [[3, 3, 3], [4, 4, 4]]])\n",
        "tf.shape(t)  # [2, 2, 3]"
      ],
      "execution_count": 0,
      "outputs": [
        {
          "output_type": "execute_result",
          "data": {
            "text/plain": [
              "<tf.Tensor 'Shape:0' shape=(3,) dtype=int32>"
            ]
          },
          "metadata": {
            "tags": []
          },
          "execution_count": 15
        }
      ]
    },
    {
      "metadata": {
        "id": "yzzGcB2C4GSI",
        "colab_type": "text"
      },
      "cell_type": "markdown",
      "source": [
        "#### Porquê o b'  antes do texto\n",
        "O resultado do grafo de sessão é do tipo 'bytestring' dai o resultado impresso ter o prefixo \"b'\""
      ]
    },
    {
      "metadata": {
        "id": "p0nJCs0a80Rm",
        "colab_type": "code",
        "outputId": "2f5e0567-8da8-48b7-c7cf-39d1d8a80a56",
        "colab": {
          "base_uri": "https://localhost:8080/",
          "height": 34
        }
      },
      "cell_type": "code",
      "source": [
        "# Extra:\n",
        "# O resultado do grafo de sessão é do tipo 'bytestring' dai o resultado impresso\n",
        "# tem o prefixo \"b'\"\n",
        "print(sess.run(hello).decode())"
      ],
      "execution_count": 0,
      "outputs": [
        {
          "output_type": "stream",
          "text": [
            "Hello, TensorFlow!\n"
          ],
          "name": "stdout"
        }
      ]
    },
    {
      "metadata": {
        "id": "2TDTDPZz3bV7",
        "colab_type": "text"
      },
      "cell_type": "markdown",
      "source": [
        "#### Está o GPU a correr?\n",
        "\n",
        "Não : '' \n",
        "\n",
        "Sim : ''/device:GPU:0'' \n"
      ]
    },
    {
      "metadata": {
        "id": "dokc3m8Y3eQF",
        "colab_type": "code",
        "outputId": "8669ddcf-6f74-4967-da14-4d1b281819bd",
        "colab": {
          "base_uri": "https://localhost:8080/",
          "height": 34
        }
      },
      "cell_type": "code",
      "source": [
        "tf.test.gpu_device_name()"
      ],
      "execution_count": 0,
      "outputs": [
        {
          "output_type": "execute_result",
          "data": {
            "text/plain": [
              "'/device:GPU:0'"
            ]
          },
          "metadata": {
            "tags": []
          },
          "execution_count": 3
        }
      ]
    },
    {
      "metadata": {
        "id": "QWhSjGob35IT",
        "colab_type": "text"
      },
      "cell_type": "markdown",
      "source": [
        "#### Ver Bibliotecas instaladas"
      ]
    },
    {
      "metadata": {
        "id": "jcwrWG6l9bPR",
        "colab_type": "code",
        "outputId": "d5103d04-0503-4e28-b36d-82abe7548fe0",
        "colab": {
          "base_uri": "https://localhost:8080/"
        }
      },
      "cell_type": "code",
      "source": [
        "!pip list"
      ],
      "execution_count": 0,
      "outputs": [
        {
          "output_type": "stream",
          "text": [
            "Package                  Version   \n",
            "------------------------ ----------\n",
            "absl-py                  0.6.1     \n",
            "altair                   2.2.2     \n",
            "astor                    0.7.1     \n",
            "atomicwrites             1.2.1     \n",
            "attrs                    18.2.0    \n",
            "beautifulsoup4           4.6.3     \n",
            "bleach                   3.0.2     \n",
            "cachetools               3.0.0     \n",
            "certifi                  2018.10.15\n",
            "chardet                  3.0.4     \n",
            "crcmod                   1.7       \n",
            "cycler                   0.10.0    \n",
            "cymem                    2.0.2     \n",
            "cytoolz                  0.9.0.1   \n",
            "decorator                4.3.0     \n",
            "defusedxml               0.5.0     \n",
            "dill                     0.2.8.2   \n",
            "entrypoints              0.2.3     \n",
            "future                   0.16.0    \n",
            "gast                     0.2.0     \n",
            "google-api-core          1.5.2     \n",
            "google-api-python-client 1.6.7     \n",
            "google-auth              1.4.2     \n",
            "google-auth-httplib2     0.0.3     \n",
            "google-auth-oauthlib     0.2.0     \n",
            "google-cloud-bigquery    1.1.0     \n",
            "google-cloud-core        0.28.1    \n",
            "google-cloud-language    1.0.2     \n",
            "google-cloud-storage     1.8.0     \n",
            "google-cloud-translate   1.3.1     \n",
            "google-colab             0.0.1a1   \n",
            "google-resumable-media   0.3.1     \n",
            "googleapis-common-protos 1.5.5     \n",
            "grpcio                   1.15.0    \n",
            "h5py                     2.8.0     \n",
            "httplib2                 0.11.3    \n",
            "idna                     2.6       \n",
            "ipykernel                4.6.1     \n",
            "ipython                  5.5.0     \n",
            "ipython-genutils         0.2.0     \n",
            "Jinja2                   2.10      \n",
            "joblib                   0.13.0    \n",
            "jsonschema               2.6.0     \n",
            "jupyter-client           5.2.3     \n",
            "jupyter-core             4.4.0     \n",
            "Keras                    2.2.4     \n",
            "Keras-Applications       1.0.6     \n",
            "Keras-Preprocessing      1.0.5     \n",
            "Markdown                 3.0.1     \n",
            "MarkupSafe               1.1.0     \n",
            "matplotlib               2.1.2     \n",
            "mistune                  0.8.4     \n",
            "more-itertools           4.3.0     \n",
            "mpmath                   1.0.0     \n",
            "msgpack                  0.5.6     \n",
            "msgpack-numpy            0.4.3.2   \n",
            "murmurhash               1.0.1     \n",
            "nbconvert                5.4.0     \n",
            "nbformat                 4.4.0     \n",
            "networkx                 2.2       \n",
            "nltk                     3.2.5     \n",
            "notebook                 5.2.2     \n",
            "numpy                    1.14.6    \n",
            "oauth2client             4.1.3     \n",
            "oauthlib                 2.1.0     \n",
            "olefile                  0.46      \n",
            "opencv-python            3.4.3.18  \n",
            "pandas                   0.22.0    \n",
            "pandas-gbq               0.4.1     \n",
            "pandocfilters            1.4.2     \n",
            "patsy                    0.5.1     \n",
            "pexpect                  4.6.0     \n",
            "pickleshare              0.7.5     \n",
            "Pillow                   4.0.0     \n",
            "pip                      18.1      \n",
            "plac                     0.9.6     \n",
            "plotly                   1.12.12   \n",
            "pluggy                   0.8.0     \n",
            "portpicker               1.2.0     \n",
            "preshed                  2.0.1     \n",
            "prompt-toolkit           1.0.15    \n",
            "protobuf                 3.6.1     \n",
            "psutil                   5.4.8     \n",
            "ptyprocess               0.6.0     \n",
            "py                       1.7.0     \n",
            "pyasn1                   0.4.4     \n",
            "pyasn1-modules           0.2.2     \n",
            "Pygments                 2.1.3     \n",
            "pygobject                3.26.1    \n",
            "pymc3                    3.5       \n",
            "pyparsing                2.3.0     \n",
            "pystache                 0.5.4     \n",
            "python-apt               1.6.3     \n",
            "python-dateutil          2.5.3     \n",
            "pytz                     2018.7    \n",
            "PyWavelets               1.0.1     \n",
            "PyYAML                   3.13      \n",
            "pyzmq                    17.0.0    \n",
            "regex                    2018.1.10 \n",
            "requests                 2.18.4    \n",
            "requests-oauthlib        1.0.0     \n",
            "rsa                      4.0       \n",
            "scikit-image             0.13.1    \n",
            "scikit-learn             0.19.2    \n",
            "scipy                    1.1.0     \n",
            "seaborn                  0.7.1     \n",
            "setuptools               40.6.2    \n",
            "simplegeneric            0.8.1     \n",
            "six                      1.11.0    \n",
            "spacy                    2.0.16    \n",
            "statsmodels              0.8.0     \n",
            "sympy                    1.1.1     \n",
            "tensorboard              1.12.0    \n",
            "tensorflow               1.12.0    \n",
            "tensorflow-hub           0.1.1     \n",
            "termcolor                1.1.0     \n",
            "terminado                0.8.1     \n",
            "testpath                 0.4.2     \n",
            "Theano                   1.0.3     \n",
            "thinc                    6.12.0    \n",
            "toolz                    0.9.0     \n",
            "tornado                  4.5.3     \n",
            "tqdm                     4.28.1    \n",
            "traitlets                4.3.2     \n",
            "typing                   3.6.6     \n",
            "ujson                    1.35      \n",
            "uritemplate              3.0.0     \n",
            "urllib3                  1.22      \n",
            "vega-datasets            0.5.0     \n",
            "wcwidth                  0.1.7     \n",
            "webencodings             0.5.1     \n",
            "Werkzeug                 0.14.1    \n",
            "wheel                    0.32.2    \n",
            "wrapt                    1.10.11   \n",
            "xgboost                  0.7.post4 \n"
          ],
          "name": "stdout"
        }
      ]
    },
    {
      "metadata": {
        "id": "YDEQkJdwUIfO",
        "colab_type": "text"
      },
      "cell_type": "markdown",
      "source": [
        "## Regressão Linear\n",
        "\n",
        "Y = W * X + b\n",
        "\n",
        "---\n",
        "\n",
        "Y = W1X1 + W2X2 + ... + WnXn + b\n",
        "\n"
      ]
    },
    {
      "metadata": {
        "id": "74nWS_JmUGNh",
        "colab_type": "code",
        "colab": {}
      },
      "cell_type": "code",
      "source": [
        "# Parametros do Modelo\n",
        "\n",
        "W = tf.Variable([3.0], name=\"weight\")\n",
        "b = tf.Variable([-2.0], name=\"bias\")"
      ],
      "execution_count": 0,
      "outputs": []
    },
    {
      "metadata": {
        "id": "3BagCgP0UyD3",
        "colab_type": "code",
        "colab": {}
      },
      "cell_type": "code",
      "source": [
        "# Inputs do Modelo\n",
        "\n",
        "# Data de treino\n",
        "X = tf.placeholder(tf.float32)\n",
        "# y\n",
        "Y = tf.placeholder(tf.float32)"
      ],
      "execution_count": 0,
      "outputs": []
    },
    {
      "metadata": {
        "id": "PxNUdPcGU9Xk",
        "colab_type": "code",
        "colab": {}
      },
      "cell_type": "code",
      "source": [
        "# Definição do Modelo\n",
        "predictions = M*X + b"
      ],
      "execution_count": 0,
      "outputs": []
    },
    {
      "metadata": {
        "id": "ueQp6OW2VgeF",
        "colab_type": "code",
        "colab": {}
      },
      "cell_type": "code",
      "source": [
        "# loss function. Aqui fazemos o quadrado do erro ( mse )\n",
        "loss = tf.reduce_sum(tf.square(predictions-Y))"
      ],
      "execution_count": 0,
      "outputs": []
    },
    {
      "metadata": {
        "id": "c6Koq9jHVm3j",
        "colab_type": "code",
        "colab": {}
      },
      "cell_type": "code",
      "source": [
        "# Operação de Treino (op trainning)\n",
        "train = tf.train.GradientDescentOptimizer(0.001).minimize(loss)"
      ],
      "execution_count": 0,
      "outputs": []
    },
    {
      "metadata": {
        "id": "8PPbve71VsZt",
        "colab_type": "code",
        "colab": {}
      },
      "cell_type": "code",
      "source": [
        "# train data e Sessão\n",
        "\n",
        "x = [1.1,2.0,3.5,4.8]\n",
        "y = [2.0,3.4,4.2,5.1]\n",
        "sess.run(tf.global_variables_initializer())\n",
        "for train_step in range(2000):\n",
        "    sess.run(train,{X:x,Y:y})"
      ],
      "execution_count": 0,
      "outputs": []
    },
    {
      "metadata": {
        "id": "IG4xEojuVzJn",
        "colab_type": "code",
        "outputId": "7f705a28-bc53-41cc-bd3c-1500f066e6d7",
        "colab": {
          "base_uri": "https://localhost:8080/",
          "height": 34
        }
      },
      "cell_type": "code",
      "source": [
        "# Resultado\n",
        "weight, bias, loss = sess.run([W, b, loss], {X:x, Y:y})\n",
        "\n",
        "print(\"W: %s b: %s loss: %s\"%(weight,bias,loss))"
      ],
      "execution_count": 0,
      "outputs": [
        {
          "output_type": "stream",
          "text": [
            "W: [3.] b: [1.2378168] loss: 0.2880003\n"
          ],
          "name": "stdout"
        }
      ]
    },
    {
      "metadata": {
        "id": "5STqbTaiW00S",
        "colab_type": "text"
      },
      "cell_type": "markdown",
      "source": [
        "# Keras"
      ]
    },
    {
      "metadata": {
        "id": "4aMt1cCk03q8",
        "colab_type": "text"
      },
      "cell_type": "markdown",
      "source": [
        "\n",
        "\n",
        "É uma API de alto nível para construir e treinar modelos 'deep learning'. É usado para criar de forma rápida modelos avançados para pesquisa e producão, focado em três pontos:\n",
        "\n",
        "* Fácil de usar\n",
        "> Keras tem uma simples, consistente interface optimizada para os casos mais comuns. Fornece uma resposta limpa dos erros do utilizador\n",
        "\n",
        "* Modular\n",
        "> Os modelos de Keras são criados por blocos configuraveis com poucas restrições\n",
        "* Fácil de extender\n",
        "> Criar blocos personalizados basta usar as várias 'layers', 'loss functions' que existem para criar modelos de estado de arte \n",
        "\n",
        "[[Keras Website]](https://www.tensorflow.org/guide/keras)"
      ]
    },
    {
      "metadata": {
        "id": "FL1oVH-X0_sg",
        "colab_type": "text"
      },
      "cell_type": "markdown",
      "source": [
        "### Keras vs tf.Keras\n",
        "\n",
        "Keras em 2017 tornou-se uma componente oficial no Tensorflow indicado como 'tf.keras'. Estando todas as mesmas funcionlidades integradas, não sendo necessário incluir umas outra linguagem. [anuncio](https://www.fast.ai/2017/01/03/keras/)\n",
        "\n",
        "\n",
        "Keras tem o conceito de \"backend\", onde o backend poder ser: Tensorflow, CNTK ou Theano. Uma linguagem 3 frameworks\n"
      ]
    },
    {
      "metadata": {
        "id": "s6MTOYi_1Coe",
        "colab_type": "text"
      },
      "cell_type": "markdown",
      "source": [
        "[tf.keras](https://www.tensorflow.org/api_docs/python/tf/keras)  consegue correr qualquer código compativel mas tenham em mente que:\n",
        "\n",
        "* Que a versão de ```tf.keras``` mais recente de Tensorflow pode não ser exactamente a mesma que a do PyPi, verificar sempre a compatibilidade por ```tf.keras.version```\n",
        "\n",
        "* Quando se for a gravar os pesos de um modelo, tf.keras vai por omissão para ```checkpoint format```. Passar o formato 'h5' com ```save_format='h5'``` para usar HDF5"
      ]
    },
    {
      "metadata": {
        "id": "xaWulP_K1AMi",
        "colab_type": "code",
        "outputId": "20709126-fd79-4e4f-ef2b-2dd52729b6ae",
        "colab": {
          "base_uri": "https://localhost:8080/",
          "height": 52
        }
      },
      "cell_type": "code",
      "source": [
        "import tensorflow as tf\n",
        "from tensorflow.keras import layers\n",
        "\n",
        "print(tf.VERSION)\n",
        "print(tf.keras.__version__)"
      ],
      "execution_count": 0,
      "outputs": [
        {
          "output_type": "stream",
          "text": [
            "1.12.0\n",
            "2.1.6-tf\n"
          ],
          "name": "stdout"
        }
      ]
    },
    {
      "metadata": {
        "id": "UbX0YLeS1G7l",
        "colab_type": "text"
      },
      "cell_type": "markdown",
      "source": [
        "## Um simples modelo"
      ]
    },
    {
      "metadata": {
        "id": "VM8cKTDg1LCM",
        "colab_type": "text"
      },
      "cell_type": "markdown",
      "source": [
        "### Tensorflow"
      ]
    },
    {
      "metadata": {
        "id": "72wH8kAV1Hew",
        "colab_type": "code",
        "outputId": "374ef3ac-011b-4d9c-cccd-f72705499fa1",
        "colab": {
          "base_uri": "https://localhost:8080/",
          "height": 34
        }
      },
      "cell_type": "code",
      "source": [
        "x = tf.placeholder(tf.float32, [1, 64])\n",
        "model = tf.layers.dense(x, 64, tf.nn.relu)\n",
        "model = tf.layers.dense(model, 64, tf.nn.relu)\n",
        "model = tf.layers.dense(model, 10, tf.nn.softmax)\n",
        "\n",
        "model"
      ],
      "execution_count": 0,
      "outputs": [
        {
          "output_type": "execute_result",
          "data": {
            "text/plain": [
              "<tf.Tensor 'dense_20/Softmax:0' shape=(1, 10) dtype=float32>"
            ]
          },
          "metadata": {
            "tags": []
          },
          "execution_count": 23
        }
      ]
    },
    {
      "metadata": {
        "id": "dh9Te8FH1PT8",
        "colab_type": "text"
      },
      "cell_type": "markdown",
      "source": [
        "### Keras"
      ]
    },
    {
      "metadata": {
        "id": "u_fQJHDm1MzL",
        "colab_type": "code",
        "outputId": "3de4e300-93ee-446c-a65f-9d9be8041beb",
        "colab": {
          "base_uri": "https://localhost:8080/",
          "height": 243
        }
      },
      "cell_type": "code",
      "source": [
        "model = tf.keras.Sequential([\n",
        "    tf.keras.layers.Dense(64, activation='relu', input_shape= (1,64) ),\n",
        "    tf.keras.layers.Dense(64, activation='relu'),\n",
        "    tf.keras.layers.Dense(10, activation='softmax')\n",
        "])\n",
        "\n",
        "model.summary()"
      ],
      "execution_count": 0,
      "outputs": [
        {
          "output_type": "stream",
          "text": [
            "_________________________________________________________________\n",
            "Layer (type)                 Output Shape              Param #   \n",
            "=================================================================\n",
            "dense_6 (Dense)              (None, 1, 64)             4160      \n",
            "_________________________________________________________________\n",
            "dense_7 (Dense)              (None, 1, 64)             4160      \n",
            "_________________________________________________________________\n",
            "dense_8 (Dense)              (None, 1, 10)             650       \n",
            "=================================================================\n",
            "Total params: 8,970\n",
            "Trainable params: 8,970\n",
            "Non-trainable params: 0\n",
            "_________________________________________________________________\n"
          ],
          "name": "stdout"
        }
      ]
    },
    {
      "metadata": {
        "id": "zN1TPjNy8QFj",
        "colab_type": "text"
      },
      "cell_type": "markdown",
      "source": [
        "### Regressão Linear com Keras"
      ]
    },
    {
      "metadata": {
        "id": "pqWoxF3Pb7L8",
        "colab_type": "text"
      },
      "cell_type": "markdown",
      "source": [
        "1 - Importação das bibliotecas"
      ]
    },
    {
      "metadata": {
        "id": "wSrCC8GSIYb_",
        "colab_type": "code",
        "colab": {}
      },
      "cell_type": "code",
      "source": [
        "import tensorflow as tf\n",
        "import pandas as pd\n",
        "import numpy as np\n",
        "import random\n",
        "\n",
        "random.seed(42)"
      ],
      "execution_count": 0,
      "outputs": []
    },
    {
      "metadata": {
        "id": "ABALpc_fb9aC",
        "colab_type": "text"
      },
      "cell_type": "markdown",
      "source": [
        "2 - Variáveis "
      ]
    },
    {
      "metadata": {
        "id": "KpYQCxg88T_H",
        "colab_type": "code",
        "colab": {}
      },
      "cell_type": "code",
      "source": [
        "# Média, desvio padrão, e dimensão do dataset\n",
        "mu, sigma, size = 0, 4, 100\n",
        "\n",
        "# Inclinação/slope (m) e onde corta com o eixo y-intercept (b)\n",
        "m, b = 2, 10"
      ],
      "execution_count": 0,
      "outputs": []
    },
    {
      "metadata": {
        "id": "Lj84NyZ_b-Ha",
        "colab_type": "text"
      },
      "cell_type": "markdown",
      "source": [
        "3 - Geração dados sintéticos"
      ]
    },
    {
      "metadata": {
        "id": "P7HetUUE57ae",
        "colab_type": "code",
        "colab": {}
      },
      "cell_type": "code",
      "source": [
        "x = np.random.uniform(0,10, size)\n",
        "df = pd.DataFrame({'x':x})\n",
        "\n",
        "df['y_perfect'] = df['x'].apply(lambda x: m*x+b)\n",
        "\n",
        "df['noise'] = np.random.normal(mu, sigma, size=(size,))\n",
        "df['y'] = df['y_perfect'] + df['noise']"
      ],
      "execution_count": 0,
      "outputs": []
    },
    {
      "metadata": {
        "id": "FfIey8Dcb-19",
        "colab_type": "text"
      },
      "cell_type": "markdown",
      "source": [
        "4 - Criar o modelo"
      ]
    },
    {
      "metadata": {
        "id": "GFQeCQm8MAyC",
        "colab_type": "code",
        "colab": {}
      },
      "cell_type": "code",
      "source": [
        "model = tf.keras.Sequential([\n",
        "        tf.keras.layers.Dense(1, activation='linear', input_shape=(1,))\n",
        "    ])"
      ],
      "execution_count": 0,
      "outputs": []
    },
    {
      "metadata": {
        "id": "HJ0bv5_eb_l4",
        "colab_type": "text"
      },
      "cell_type": "markdown",
      "source": [
        "5 - Compilar o Modelo"
      ]
    },
    {
      "metadata": {
        "id": "yPJ40QdW7jXN",
        "colab_type": "code",
        "colab": {}
      },
      "cell_type": "code",
      "source": [
        "model.compile(loss='mse', optimizer='adam')"
      ],
      "execution_count": 0,
      "outputs": []
    },
    {
      "metadata": {
        "id": "KcRWWq5OcSAQ",
        "colab_type": "text"
      },
      "cell_type": "markdown",
      "source": [
        "6 - Treinar o modelo"
      ]
    },
    {
      "metadata": {
        "id": "8jILmds29pMW",
        "colab_type": "code",
        "outputId": "ead5ecc3-0295-4057-8505-3f40455cdaf9",
        "colab": {
          "base_uri": "https://localhost:8080/",
          "height": 3508
        }
      },
      "cell_type": "code",
      "source": [
        "history = model.fit(x=df['x'], y=df['y'], validation_split=0.2, batch_size=1, epochs=100)"
      ],
      "execution_count": 0,
      "outputs": [
        {
          "output_type": "stream",
          "text": [
            "Train on 80 samples, validate on 20 samples\n",
            "Epoch 1/100\n",
            "80/80 [==============================] - 1s 16ms/step - loss: 507.0104 - val_loss: 493.2637\n",
            "Epoch 2/100\n",
            "80/80 [==============================] - 0s 3ms/step - loss: 489.8557 - val_loss: 475.9357\n",
            "Epoch 3/100\n",
            "80/80 [==============================] - 0s 3ms/step - loss: 472.9547 - val_loss: 457.7176\n",
            "Epoch 4/100\n",
            "80/80 [==============================] - 0s 3ms/step - loss: 456.5244 - val_loss: 440.6481\n",
            "Epoch 5/100\n",
            "80/80 [==============================] - 0s 3ms/step - loss: 440.4832 - val_loss: 424.7174\n",
            "Epoch 6/100\n",
            "80/80 [==============================] - 0s 3ms/step - loss: 424.9344 - val_loss: 408.3326\n",
            "Epoch 7/100\n",
            "80/80 [==============================] - 0s 3ms/step - loss: 409.7525 - val_loss: 392.5779\n",
            "Epoch 8/100\n",
            "80/80 [==============================] - 0s 4ms/step - loss: 395.0056 - val_loss: 377.4533\n",
            "Epoch 9/100\n",
            "80/80 [==============================] - 0s 4ms/step - loss: 380.5768 - val_loss: 363.1471\n",
            "Epoch 10/100\n",
            "80/80 [==============================] - 0s 4ms/step - loss: 366.7250 - val_loss: 348.6793\n",
            "Epoch 11/100\n",
            "80/80 [==============================] - 0s 4ms/step - loss: 353.0965 - val_loss: 335.3493\n",
            "Epoch 12/100\n",
            "80/80 [==============================] - 0s 4ms/step - loss: 339.9876 - val_loss: 321.4257\n",
            "Epoch 13/100\n",
            "80/80 [==============================] - 0s 4ms/step - loss: 327.1344 - val_loss: 308.3734\n",
            "Epoch 14/100\n",
            "80/80 [==============================] - 0s 4ms/step - loss: 314.7041 - val_loss: 295.7124\n",
            "Epoch 15/100\n",
            "80/80 [==============================] - 0s 4ms/step - loss: 302.6101 - val_loss: 283.3842\n",
            "Epoch 16/100\n",
            "80/80 [==============================] - 0s 4ms/step - loss: 290.8930 - val_loss: 271.3804\n",
            "Epoch 17/100\n",
            "80/80 [==============================] - 0s 4ms/step - loss: 279.4423 - val_loss: 260.1962\n",
            "Epoch 18/100\n",
            "80/80 [==============================] - 0s 4ms/step - loss: 268.4292 - val_loss: 249.0940\n",
            "Epoch 19/100\n",
            "80/80 [==============================] - 0s 4ms/step - loss: 257.7465 - val_loss: 238.2160\n",
            "Epoch 20/100\n",
            "80/80 [==============================] - 0s 4ms/step - loss: 247.3679 - val_loss: 227.5825\n",
            "Epoch 21/100\n",
            "80/80 [==============================] - 0s 4ms/step - loss: 237.1990 - val_loss: 217.9004\n",
            "Epoch 22/100\n",
            "80/80 [==============================] - 0s 3ms/step - loss: 227.4654 - val_loss: 208.0145\n",
            "Epoch 23/100\n",
            "80/80 [==============================] - 0s 3ms/step - loss: 217.9335 - val_loss: 198.9251\n",
            "Epoch 24/100\n",
            "80/80 [==============================] - 0s 4ms/step - loss: 208.7838 - val_loss: 189.6633\n",
            "Epoch 25/100\n",
            "80/80 [==============================] - 0s 4ms/step - loss: 199.8922 - val_loss: 180.7337\n",
            "Epoch 26/100\n",
            "80/80 [==============================] - 0s 4ms/step - loss: 191.2741 - val_loss: 172.3103\n",
            "Epoch 27/100\n",
            "80/80 [==============================] - 0s 4ms/step - loss: 183.0262 - val_loss: 164.0168\n",
            "Epoch 28/100\n",
            "80/80 [==============================] - 0s 4ms/step - loss: 174.9239 - val_loss: 156.4614\n",
            "Epoch 29/100\n",
            "80/80 [==============================] - 0s 4ms/step - loss: 167.2273 - val_loss: 148.7202\n",
            "Epoch 30/100\n",
            "80/80 [==============================] - 0s 4ms/step - loss: 159.7082 - val_loss: 141.4987\n",
            "Epoch 31/100\n",
            "80/80 [==============================] - 0s 4ms/step - loss: 152.5078 - val_loss: 134.4109\n",
            "Epoch 32/100\n",
            "80/80 [==============================] - 0s 4ms/step - loss: 145.5110 - val_loss: 127.7278\n",
            "Epoch 33/100\n",
            "80/80 [==============================] - 0s 4ms/step - loss: 138.7712 - val_loss: 121.4820\n",
            "Epoch 34/100\n",
            "80/80 [==============================] - 0s 4ms/step - loss: 132.3384 - val_loss: 115.2079\n",
            "Epoch 35/100\n",
            "80/80 [==============================] - 0s 4ms/step - loss: 126.1203 - val_loss: 109.2171\n",
            "Epoch 36/100\n",
            "80/80 [==============================] - 0s 4ms/step - loss: 120.1396 - val_loss: 103.5528\n",
            "Epoch 37/100\n",
            "80/80 [==============================] - 0s 3ms/step - loss: 114.3792 - val_loss: 98.2073\n",
            "Epoch 38/100\n",
            "80/80 [==============================] - 0s 4ms/step - loss: 108.8781 - val_loss: 93.0207\n",
            "Epoch 39/100\n",
            "80/80 [==============================] - 0s 4ms/step - loss: 103.5659 - val_loss: 88.2611\n",
            "Epoch 40/100\n",
            "80/80 [==============================] - 0s 4ms/step - loss: 98.5050 - val_loss: 83.6218\n",
            "Epoch 41/100\n",
            "80/80 [==============================] - 0s 4ms/step - loss: 93.6575 - val_loss: 79.1203\n",
            "Epoch 42/100\n",
            "80/80 [==============================] - 0s 4ms/step - loss: 89.0034 - val_loss: 74.8617\n",
            "Epoch 43/100\n",
            "80/80 [==============================] - 0s 4ms/step - loss: 84.5802 - val_loss: 70.8336\n",
            "Epoch 44/100\n",
            "80/80 [==============================] - 0s 3ms/step - loss: 80.3375 - val_loss: 67.1592\n",
            "Epoch 45/100\n",
            "80/80 [==============================] - 0s 4ms/step - loss: 76.3297 - val_loss: 63.5490\n",
            "Epoch 46/100\n",
            "80/80 [==============================] - 0s 4ms/step - loss: 72.4904 - val_loss: 60.1708\n",
            "Epoch 47/100\n",
            "80/80 [==============================] - 0s 4ms/step - loss: 68.8476 - val_loss: 56.9944\n",
            "Epoch 48/100\n",
            "80/80 [==============================] - 0s 4ms/step - loss: 65.3899 - val_loss: 54.0990\n",
            "Epoch 49/100\n",
            "80/80 [==============================] - 0s 4ms/step - loss: 62.1114 - val_loss: 51.2819\n",
            "Epoch 50/100\n",
            "80/80 [==============================] - 0s 4ms/step - loss: 59.0015 - val_loss: 48.6998\n",
            "Epoch 51/100\n",
            "80/80 [==============================] - 0s 4ms/step - loss: 56.0840 - val_loss: 46.2292\n",
            "Epoch 52/100\n",
            "80/80 [==============================] - 0s 4ms/step - loss: 53.3248 - val_loss: 43.9474\n",
            "Epoch 53/100\n",
            "80/80 [==============================] - 0s 4ms/step - loss: 50.7286 - val_loss: 41.8400\n",
            "Epoch 54/100\n",
            "80/80 [==============================] - 0s 4ms/step - loss: 48.2964 - val_loss: 39.9029\n",
            "Epoch 55/100\n",
            "80/80 [==============================] - 0s 3ms/step - loss: 46.0037 - val_loss: 38.1488\n",
            "Epoch 56/100\n",
            "80/80 [==============================] - 0s 4ms/step - loss: 43.8555 - val_loss: 36.5623\n",
            "Epoch 57/100\n",
            "80/80 [==============================] - 0s 4ms/step - loss: 41.8617 - val_loss: 35.0984\n",
            "Epoch 58/100\n",
            "80/80 [==============================] - 0s 4ms/step - loss: 40.0069 - val_loss: 33.6777\n",
            "Epoch 59/100\n",
            "80/80 [==============================] - 0s 4ms/step - loss: 38.2727 - val_loss: 32.4797\n",
            "Epoch 60/100\n",
            "80/80 [==============================] - 0s 3ms/step - loss: 36.6601 - val_loss: 31.3776\n",
            "Epoch 61/100\n",
            "80/80 [==============================] - 0s 4ms/step - loss: 35.1728 - val_loss: 30.3749\n",
            "Epoch 62/100\n",
            "80/80 [==============================] - 0s 3ms/step - loss: 33.8016 - val_loss: 29.4881\n",
            "Epoch 63/100\n",
            "80/80 [==============================] - 0s 4ms/step - loss: 32.5447 - val_loss: 28.6855\n",
            "Epoch 64/100\n",
            "80/80 [==============================] - 0s 4ms/step - loss: 31.3934 - val_loss: 27.9725\n",
            "Epoch 65/100\n",
            "80/80 [==============================] - 0s 3ms/step - loss: 30.3260 - val_loss: 27.3858\n",
            "Epoch 66/100\n",
            "80/80 [==============================] - 0s 4ms/step - loss: 29.3514 - val_loss: 26.9079\n",
            "Epoch 67/100\n",
            "80/80 [==============================] - 0s 3ms/step - loss: 28.4870 - val_loss: 26.4328\n",
            "Epoch 68/100\n",
            "80/80 [==============================] - 0s 3ms/step - loss: 27.6809 - val_loss: 26.0629\n",
            "Epoch 69/100\n",
            "80/80 [==============================] - 0s 4ms/step - loss: 26.9680 - val_loss: 25.7418\n",
            "Epoch 70/100\n",
            "80/80 [==============================] - 0s 4ms/step - loss: 26.3164 - val_loss: 25.4931\n",
            "Epoch 71/100\n",
            "80/80 [==============================] - 0s 4ms/step - loss: 25.7312 - val_loss: 25.2879\n",
            "Epoch 72/100\n",
            "80/80 [==============================] - 0s 3ms/step - loss: 25.2124 - val_loss: 25.1242\n",
            "Epoch 73/100\n",
            "80/80 [==============================] - 0s 4ms/step - loss: 24.7401 - val_loss: 24.9980\n",
            "Epoch 74/100\n",
            "80/80 [==============================] - 0s 4ms/step - loss: 24.3373 - val_loss: 24.9125\n",
            "Epoch 75/100\n",
            "80/80 [==============================] - 0s 4ms/step - loss: 23.9568 - val_loss: 24.8430\n",
            "Epoch 76/100\n",
            "80/80 [==============================] - 0s 4ms/step - loss: 23.6198 - val_loss: 24.8066\n",
            "Epoch 77/100\n",
            "80/80 [==============================] - 0s 4ms/step - loss: 23.3303 - val_loss: 24.7837\n",
            "Epoch 78/100\n",
            "80/80 [==============================] - 0s 4ms/step - loss: 23.0674 - val_loss: 24.7770\n",
            "Epoch 79/100\n",
            "80/80 [==============================] - 0s 3ms/step - loss: 22.8449 - val_loss: 24.7918\n",
            "Epoch 80/100\n",
            "80/80 [==============================] - 0s 4ms/step - loss: 22.6309 - val_loss: 24.8044\n",
            "Epoch 81/100\n",
            "80/80 [==============================] - 0s 4ms/step - loss: 22.4568 - val_loss: 24.8388\n",
            "Epoch 82/100\n",
            "80/80 [==============================] - 0s 3ms/step - loss: 22.2879 - val_loss: 24.8461\n",
            "Epoch 83/100\n",
            "80/80 [==============================] - 0s 3ms/step - loss: 22.1496 - val_loss: 24.9078\n",
            "Epoch 84/100\n",
            "80/80 [==============================] - 0s 4ms/step - loss: 22.0150 - val_loss: 24.8871\n",
            "Epoch 85/100\n",
            "80/80 [==============================] - 0s 4ms/step - loss: 21.9086 - val_loss: 24.9130\n",
            "Epoch 86/100\n",
            "80/80 [==============================] - 0s 3ms/step - loss: 21.8015 - val_loss: 24.9554\n",
            "Epoch 87/100\n",
            "80/80 [==============================] - 0s 3ms/step - loss: 21.6971 - val_loss: 24.9847\n",
            "Epoch 88/100\n",
            "80/80 [==============================] - 0s 4ms/step - loss: 21.6030 - val_loss: 24.9637\n",
            "Epoch 89/100\n",
            "80/80 [==============================] - 0s 4ms/step - loss: 21.5421 - val_loss: 24.9626\n",
            "Epoch 90/100\n",
            "80/80 [==============================] - 0s 4ms/step - loss: 21.4577 - val_loss: 24.9647\n",
            "Epoch 91/100\n",
            "80/80 [==============================] - 0s 4ms/step - loss: 21.3895 - val_loss: 24.9978\n",
            "Epoch 92/100\n",
            "80/80 [==============================] - 0s 4ms/step - loss: 21.3063 - val_loss: 24.9567\n",
            "Epoch 93/100\n",
            "80/80 [==============================] - 0s 3ms/step - loss: 21.2471 - val_loss: 24.9912\n",
            "Epoch 94/100\n",
            "80/80 [==============================] - 0s 3ms/step - loss: 21.1756 - val_loss: 24.9611\n",
            "Epoch 95/100\n",
            "80/80 [==============================] - 0s 4ms/step - loss: 21.1135 - val_loss: 24.9200\n",
            "Epoch 96/100\n",
            "80/80 [==============================] - 0s 3ms/step - loss: 21.0636 - val_loss: 24.9223\n",
            "Epoch 97/100\n",
            "80/80 [==============================] - 0s 4ms/step - loss: 21.0012 - val_loss: 24.8497\n",
            "Epoch 98/100\n",
            "80/80 [==============================] - 0s 4ms/step - loss: 20.9451 - val_loss: 24.8165\n",
            "Epoch 99/100\n",
            "80/80 [==============================] - 0s 4ms/step - loss: 20.8928 - val_loss: 24.7542\n",
            "Epoch 100/100\n",
            "80/80 [==============================] - 0s 3ms/step - loss: 20.8438 - val_loss: 24.7230\n"
          ],
          "name": "stdout"
        }
      ]
    },
    {
      "metadata": {
        "id": "KVuT4z3EcbGA",
        "colab_type": "text"
      },
      "cell_type": "markdown",
      "source": [
        "7 -  Resultado dos pesos"
      ]
    },
    {
      "metadata": {
        "id": "Mhyh8y8y-OH3",
        "colab_type": "code",
        "outputId": "77a60e3a-1a98-4f4f-b24d-908fd5e7fb92",
        "colab": {
          "base_uri": "https://localhost:8080/",
          "height": 34
        }
      },
      "cell_type": "code",
      "source": [
        "predicted_m = model.get_weights()[0][0][0]\n",
        "predicted_b = model.get_weights()[1][0]\n",
        "\n",
        "print(\"m={0:.2f} b={1:.2f}\".format(predicted_m, predicted_b))"
      ],
      "execution_count": 0,
      "outputs": [
        {
          "output_type": "stream",
          "text": [
            "m=2.82 b=4.70\n"
          ],
          "name": "stdout"
        }
      ]
    },
    {
      "metadata": {
        "id": "Q9yj26H2ceIk",
        "colab_type": "text"
      },
      "cell_type": "markdown",
      "source": [
        "8 - Previsão"
      ]
    },
    {
      "metadata": {
        "id": "QXrWixv6_6Gp",
        "colab_type": "code",
        "colab": {}
      },
      "cell_type": "code",
      "source": [
        "df['y_predicted'] = df['x'].apply(lambda x: predicted_m*x + predicted_b)\n"
      ],
      "execution_count": 0,
      "outputs": []
    },
    {
      "metadata": {
        "id": "7o9ErQCacg-E",
        "colab_type": "text"
      },
      "cell_type": "markdown",
      "source": [
        "9 - Visualização dos Resultados"
      ]
    },
    {
      "metadata": {
        "id": "YGNIPxW8AGnY",
        "colab_type": "code",
        "outputId": "8670134c-277a-4fa1-8b57-e53dd43677b8",
        "colab": {
          "base_uri": "https://localhost:8080/",
          "height": 606
        }
      },
      "cell_type": "code",
      "source": [
        "import matplotlib.pyplot as plt\n",
        "\n",
        "plt.figure(figsize=(10,10))\n",
        "\n",
        "plt.plot(df['x'], df['y_perfect'], c='blue')\n",
        "plt.scatter(df['x'], df['y_perfect'], c='blue')\n",
        "plt.plot(df['x'], df['y_predicted'], c='red')\n",
        "plt.scatter(df['x'], df['y'], c='green')\n",
        "plt.ylabel('y')\n",
        "plt.xlabel('x')\n",
        "plt.show()"
      ],
      "execution_count": 0,
      "outputs": [
        {
          "output_type": "display_data",
          "data": {
            "image/png": "[encoded data removed]",
            "text/plain": [
              "<matplotlib.figure.Figure at 0x7f53d33623c8>"
            ]
          },
          "metadata": {
            "tags": []
          }
        }
      ]
    }
  ]
}