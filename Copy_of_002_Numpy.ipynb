{
  "nbformat": 4,
  "nbformat_minor": 0,
  "metadata": {
    "colab": {
      "name": "Copy of 002_Numpy.ipynb",
      "version": "0.3.2",
      "provenance": [],
      "collapsed_sections": [
        "KObYpulizrkX",
        "U206LPp5ocOD",
        "LsrB6MHhoXyu"
      ],
      "include_colab_link": true
    },
    "kernelspec": {
      "name": "python3",
      "display_name": "Python 3"
    }
  },
  "cells": [
    {
      "cell_type": "markdown",
      "metadata": {
        "id": "view-in-github",
        "colab_type": "text"
      },
      "source": [
        "<a href=\"https://colab.research.google.com/github/murlokito/Miscellanea/blob/python_dev/Copy_of_002_Numpy.ipynb\" target=\"_parent\"><img src=\"https://colab.research.google.com/assets/colab-badge.svg\" alt=\"Open In Colab\"/></a>"
      ]
    },
    {
      "metadata": {
        "id": "qlSDepe5dOfp",
        "colab_type": "text"
      },
      "cell_type": "markdown",
      "source": [
        "## Numpy - \n",
        "[Website oficial](http://www.numpy.org/)\n",
        "\n",
        "Agora que sabes mexer com Collaboratory e o básico de Pandas, é extremamente importante saber usar o Numpy.\n",
        "\n",
        "Usaremos o 'numpy' para editar essencialmente vectores mas é muito mais.\n",
        "\n"
      ]
    },
    {
      "metadata": {
        "id": "dpbEprGOil-z",
        "colab_type": "code",
        "colab": {}
      },
      "cell_type": "code",
      "source": [
        "'''Imports'''\n",
        "import numpy as np"
      ],
      "execution_count": 0,
      "outputs": []
    },
    {
      "metadata": {
        "id": "qjh6tVrCm6mg",
        "colab_type": "text"
      },
      "cell_type": "markdown",
      "source": [
        "## Tipo 'ndarray'"
      ]
    },
    {
      "metadata": {
        "id": "dasQdFpNc3ya",
        "colab_type": "code",
        "outputId": "f55ba12d-a828-4abf-c079-fda1d336937c",
        "colab": {
          "base_uri": "https://localhost:8080/",
          "height": 104
        }
      },
      "cell_type": "code",
      "source": [
        "'''Python Array são do tipo 'list' '''\n",
        "print(\"- Python\")\n",
        "\n",
        "python_array_1d = [0,1,2,3]\n",
        "\n",
        "print(\"python_array_1d : {}\".format(type(python_array_1d)))\n",
        "\n",
        "'''Numpy Array são do tipo 'numpy.ndarray' '''\n",
        "print(\"- Numpy\")\n",
        "\n",
        "numpy_array_1d = np.arange(10)\n",
        "numpy_array_2d = np.arange(10).reshape(2,5)\n",
        "\n",
        "print(\"numpy_array_1d : {}\".format(type(numpy_array_1d)))\n",
        "print(\"numpy_array_2d : {}\".format(type(numpy_array_2d)))\n"
      ],
      "execution_count": 0,
      "outputs": [
        {
          "output_type": "stream",
          "text": [
            "- Python\n",
            "python_array_1d : <class 'list'>\n",
            "- Numpy\n",
            "numpy_array_1d : <class 'numpy.ndarray'>\n",
            "numpy_array_2d : <class 'numpy.ndarray'>\n"
          ],
          "name": "stdout"
        }
      ]
    },
    {
      "metadata": {
        "id": "bYCrtQlHsYWF",
        "colab_type": "text"
      },
      "cell_type": "markdown",
      "source": [
        "```\n",
        "np.array(1,2,3,4)    # ERRADO\n",
        "np.array([1,2,3,4])  # CERTO\n",
        "```\n",
        "\n",
        "### Exercício #1\n",
        "\n",
        "* O que fazem os métodos \"np.arange()\"\" e o \"ndarray.reshape()\"\" ?\n",
        "\n",
        "#### Usar '?' para ler a documentação"
      ]
    },
    {
      "metadata": {
        "id": "hBdW5OPmtA9E",
        "colab_type": "code",
        "colab": {}
      },
      "cell_type": "code",
      "source": [
        "'''Exercício #1 '''\n",
        "\n",
        "# < Escrever aqui o código >\n",
        "np.arange? # Return evenly spaced values within a given interval\n",
        "np.ndarray.reshape? # Returns an array containing the same data with a new shape"
      ],
      "execution_count": 0,
      "outputs": []
    },
    {
      "metadata": {
        "id": "9AO8N0eqoA8u",
        "colab_type": "text"
      },
      "cell_type": "markdown",
      "source": [
        "## Métodos de 'ndarray'\n",
        "\n",
        "### Informação\n",
        "\n",
        "Para obter informação do array sem ter de o imprimir basta usar o seguinte:\n",
        "\n",
        "* ndarray.size\n",
        "* ndarray.shape\n",
        "* ndarray.ndim\n",
        "\n",
        "### Criação\n",
        "\n",
        "Enquanto os anteriores é para obter informação do array.\n",
        "Para criar um array existem vários métodos sendo os mais usados os seguintes:\n",
        "\n",
        "* np.arange()\n",
        "* np.zeros()\n",
        "* np.ones()\n",
        "* np.empty()\n",
        "* np.ones_like()\n",
        "\n",
        "### Modificação\n",
        "\n",
        "Métodos como este, modificam um existente array.\n",
        "\n",
        "* ndarray.reshape()\n",
        "\n",
        "---\n",
        "\n",
        "### Exercício #3\n",
        "\n",
        "* Criar um ndarray com 28 elementos e com 2 de dimensão;\n",
        "* Qual é a dimensão do seguinte array: ```np.zeros( (1,5,2) )```\n",
        "* Criar um Tensor (1,3,5) preenchido com 1s"
      ]
    },
    {
      "metadata": {
        "id": "1gpPPnKmrSg9",
        "colab_type": "code",
        "outputId": "5bccb537-7235-4773-b45a-10508ee85e15",
        "colab": {
          "base_uri": "https://localhost:8080/",
          "height": 69
        }
      },
      "cell_type": "code",
      "source": [
        "'''Exercício #1'''\n",
        "\n",
        "# <Escrever aqui o Código>\n",
        "\n",
        "array = np.ones((28,2))\n",
        "array\n",
        "\n",
        "dim = np.zeros((1,5,2))\n",
        "dim\n",
        "\n",
        "tensor = np.ones((1,3,5))\n",
        "tensor"
      ],
      "execution_count": 0,
      "outputs": [
        {
          "output_type": "execute_result",
          "data": {
            "text/plain": [
              "array([[[1., 1., 1., 1., 1.],\n",
              "        [1., 1., 1., 1., 1.],\n",
              "        [1., 1., 1., 1., 1.]]])"
            ]
          },
          "metadata": {
            "tags": []
          },
          "execution_count": 26
        }
      ]
    },
    {
      "metadata": {
        "id": "feT9BYLa-ksk",
        "colab_type": "text"
      },
      "cell_type": "markdown",
      "source": [
        "#### As várias dimensões:\n",
        "\n",
        "0 - Scalar (magnitude)\n",
        "\n",
        "1\t- Vector (magnitude e direcção)\n",
        "\n",
        "2\t- Matrix (tabela de números)\n",
        "\n",
        "3 - Tensor (cubo de números)\n",
        "\n",
        "...\n",
        "\n",
        "n -  n-Tensor (\\*  *brain explodes* *)"
      ]
    },
    {
      "metadata": {
        "id": "81J0Bvrnjgz9",
        "colab_type": "text"
      },
      "cell_type": "markdown",
      "source": [
        "## Outras funcionalidades de Numpy"
      ]
    },
    {
      "metadata": {
        "id": "KObYpulizrkX",
        "colab_type": "text"
      },
      "cell_type": "markdown",
      "source": [
        "#### Transpor um array\n",
        "\n",
        "_ndarray.T_ \n",
        "OR \n",
        "_ndarray.transpose()_"
      ]
    },
    {
      "metadata": {
        "id": "NKDyFYh5zzDO",
        "colab_type": "code",
        "outputId": "49380109-d459-4b0f-8d5e-4f5d0dd5574d",
        "colab": {
          "base_uri": "https://localhost:8080/",
          "height": 34
        }
      },
      "cell_type": "code",
      "source": [
        "# Example:\n",
        "a = np.ones( (2,5))\n",
        "\n",
        "b = a.T\n",
        "c = b.transpose()\n",
        "\n",
        "a.shape == c.shape\n"
      ],
      "execution_count": 0,
      "outputs": [
        {
          "output_type": "execute_result",
          "data": {
            "text/plain": [
              "True"
            ]
          },
          "metadata": {
            "tags": []
          },
          "execution_count": 27
        }
      ]
    },
    {
      "metadata": {
        "id": "U206LPp5ocOD",
        "colab_type": "text"
      },
      "cell_type": "markdown",
      "source": [
        "#### Número complexos"
      ]
    },
    {
      "metadata": {
        "id": "NuXcIWmeok69",
        "colab_type": "code",
        "outputId": "eb0414c7-f4d9-4a37-ed07-3415e2d2c334",
        "colab": {
          "base_uri": "https://localhost:8080/",
          "height": 52
        }
      },
      "cell_type": "code",
      "source": [
        "c = np.array( [ [1,2], [3,4] ], dtype=complex )\n",
        "c"
      ],
      "execution_count": 0,
      "outputs": [
        {
          "output_type": "execute_result",
          "data": {
            "text/plain": [
              "array([[1.+0.j, 2.+0.j],\n",
              "       [3.+0.j, 4.+0.j]])"
            ]
          },
          "metadata": {
            "tags": []
          },
          "execution_count": 28
        }
      ]
    },
    {
      "metadata": {
        "id": "LsrB6MHhoXyu",
        "colab_type": "text"
      },
      "cell_type": "markdown",
      "source": [
        "#### Pi"
      ]
    },
    {
      "metadata": {
        "id": "Mmd9jNfWeIaZ",
        "colab_type": "code",
        "outputId": "33854083-55bd-4b8e-f3b0-40ca6d817a2c",
        "colab": {
          "base_uri": "https://localhost:8080/",
          "height": 364
        }
      },
      "cell_type": "code",
      "source": [
        "import matplotlib.pyplot as plt\n",
        "from numpy import pi\n",
        "\n",
        "x = np.linspace( 0, 2*pi, 100 ) \n",
        "y = np.sin(x)\n",
        "\n",
        "plt.plot(x,y)"
      ],
      "execution_count": 0,
      "outputs": [
        {
          "output_type": "execute_result",
          "data": {
            "text/plain": [
              "[<matplotlib.lines.Line2D at 0x7f946f891da0>]"
            ]
          },
          "metadata": {
            "tags": []
          },
          "execution_count": 29
        },
        {
          "output_type": "display_data",
          "data": {
            "image/png": "[encoded data removed]",
            "text/plain": [
              "<matplotlib.figure.Figure at 0x7f946f9392e8>"
            ]
          },
          "metadata": {
            "tags": []
          }
        }
      ]
    },
    {
      "metadata": {
        "id": "igJWal9fiffm",
        "colab_type": "code",
        "colab": {}
      },
      "cell_type": "code",
      "source": [
        "'''O que faz numpy.linspace?'''\n",
        "np.linspace?"
      ],
      "execution_count": 0,
      "outputs": []
    },
    {
      "metadata": {
        "id": "pacurko7C2VA",
        "colab_type": "code",
        "colab": {}
      },
      "cell_type": "code",
      "source": [
        ""
      ],
      "execution_count": 0,
      "outputs": []
    }
  ]
}